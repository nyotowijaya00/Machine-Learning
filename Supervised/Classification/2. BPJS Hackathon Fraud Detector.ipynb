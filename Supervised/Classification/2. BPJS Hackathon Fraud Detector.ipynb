{
  "nbformat": 4,
  "nbformat_minor": 0,
  "metadata": {
    "colab": {
      "name": "BPJS.ipynb",
      "provenance": []
    },
    "kernelspec": {
      "name": "python3",
      "display_name": "Python 3"
    },
    "language_info": {
      "name": "python"
    },
    "accelerator": "GPU",
    "gpuClass": "standard"
  },
  "cells": [
    {
      "cell_type": "markdown",
      "source": [
        "# BPJS Hackathon 2021"
      ],
      "metadata": {
        "id": "lVQmKl9OaaKr"
      }
    },
    {
      "cell_type": "markdown",
      "source": [
        "## Import Packages & Data"
      ],
      "metadata": {
        "id": "dy1FXpFfafe6"
      }
    },
    {
      "cell_type": "code",
      "execution_count": 1,
      "metadata": {
        "id": "FceD41YuMi0I"
      },
      "outputs": [],
      "source": [
        "import time\n",
        "import numpy as np\n",
        "import pandas as pd\n",
        "import matplotlib.pyplot as plt\n",
        "import seaborn as sns\n",
        "import warnings\n",
        "warnings.filterwarnings('ignore')\n",
        "\n",
        "from sklearn.preprocessing import LabelEncoder, MinMaxScaler\n",
        "from sklearn.model_selection import train_test_split, RandomizedSearchCV\n",
        "from sklearn.metrics import classification_report, recall_score\n",
        "from sklearn.ensemble import RandomForestClassifier"
      ]
    },
    {
      "cell_type": "code",
      "source": [
        "df = pd.read_csv('/content/drive/MyDrive/Colab Notebooks/fraud_detection_train.csv')\n",
        "df.head()"
      ],
      "metadata": {
        "colab": {
          "base_uri": "https://localhost:8080/",
          "height": 236
        },
        "id": "94NizqLjMpO1",
        "outputId": "f0bfff34-9e76-44c1-8a20-b7b5db277635"
      },
      "execution_count": 2,
      "outputs": [
        {
          "output_type": "execute_result",
          "data": {
            "text/plain": [
              "   visit_id  kdkc  dati2 typeppk jkpst  umur  jnspelsep  los cmg  \\\n",
              "0         1  1107    150      SB     P    64          2    0   F   \n",
              "1         2  1303    200      C      L    45          1    9   E   \n",
              "2         3  1114    172      B      P    34          2    0   Q   \n",
              "3         4   601     90      SC     L    34          2    0   Q   \n",
              "4         5  1006    130      B      L    27          2    0   F   \n",
              "\n",
              "   severitylevel  ... proc63_67  proc68_70  proc71_73  proc74_75  proc76_77  \\\n",
              "0              0  ...         0          0          0          0          0   \n",
              "1              3  ...         0          0          0          0          0   \n",
              "2              0  ...         0          0          0          0          0   \n",
              "3              0  ...         0          0          0          0          0   \n",
              "4              0  ...         0          0          0          0          0   \n",
              "\n",
              "   proc78_79  proc80_99  proce00_e99  procv00_v89  label  \n",
              "0          0          0            0            0      1  \n",
              "1          0          4            0            0      1  \n",
              "2          0          0            0            0      1  \n",
              "3          0          0            0            0      1  \n",
              "4          0          0            0            0      1  \n",
              "\n",
              "[5 rows x 53 columns]"
            ],
            "text/html": [
              "\n",
              "  <div id=\"df-7311cc78-3389-4c9c-81b9-3be511e0e146\">\n",
              "    <div class=\"colab-df-container\">\n",
              "      <div>\n",
              "<style scoped>\n",
              "    .dataframe tbody tr th:only-of-type {\n",
              "        vertical-align: middle;\n",
              "    }\n",
              "\n",
              "    .dataframe tbody tr th {\n",
              "        vertical-align: top;\n",
              "    }\n",
              "\n",
              "    .dataframe thead th {\n",
              "        text-align: right;\n",
              "    }\n",
              "</style>\n",
              "<table border=\"1\" class=\"dataframe\">\n",
              "  <thead>\n",
              "    <tr style=\"text-align: right;\">\n",
              "      <th></th>\n",
              "      <th>visit_id</th>\n",
              "      <th>kdkc</th>\n",
              "      <th>dati2</th>\n",
              "      <th>typeppk</th>\n",
              "      <th>jkpst</th>\n",
              "      <th>umur</th>\n",
              "      <th>jnspelsep</th>\n",
              "      <th>los</th>\n",
              "      <th>cmg</th>\n",
              "      <th>severitylevel</th>\n",
              "      <th>...</th>\n",
              "      <th>proc63_67</th>\n",
              "      <th>proc68_70</th>\n",
              "      <th>proc71_73</th>\n",
              "      <th>proc74_75</th>\n",
              "      <th>proc76_77</th>\n",
              "      <th>proc78_79</th>\n",
              "      <th>proc80_99</th>\n",
              "      <th>proce00_e99</th>\n",
              "      <th>procv00_v89</th>\n",
              "      <th>label</th>\n",
              "    </tr>\n",
              "  </thead>\n",
              "  <tbody>\n",
              "    <tr>\n",
              "      <th>0</th>\n",
              "      <td>1</td>\n",
              "      <td>1107</td>\n",
              "      <td>150</td>\n",
              "      <td>SB</td>\n",
              "      <td>P</td>\n",
              "      <td>64</td>\n",
              "      <td>2</td>\n",
              "      <td>0</td>\n",
              "      <td>F</td>\n",
              "      <td>0</td>\n",
              "      <td>...</td>\n",
              "      <td>0</td>\n",
              "      <td>0</td>\n",
              "      <td>0</td>\n",
              "      <td>0</td>\n",
              "      <td>0</td>\n",
              "      <td>0</td>\n",
              "      <td>0</td>\n",
              "      <td>0</td>\n",
              "      <td>0</td>\n",
              "      <td>1</td>\n",
              "    </tr>\n",
              "    <tr>\n",
              "      <th>1</th>\n",
              "      <td>2</td>\n",
              "      <td>1303</td>\n",
              "      <td>200</td>\n",
              "      <td>C</td>\n",
              "      <td>L</td>\n",
              "      <td>45</td>\n",
              "      <td>1</td>\n",
              "      <td>9</td>\n",
              "      <td>E</td>\n",
              "      <td>3</td>\n",
              "      <td>...</td>\n",
              "      <td>0</td>\n",
              "      <td>0</td>\n",
              "      <td>0</td>\n",
              "      <td>0</td>\n",
              "      <td>0</td>\n",
              "      <td>0</td>\n",
              "      <td>4</td>\n",
              "      <td>0</td>\n",
              "      <td>0</td>\n",
              "      <td>1</td>\n",
              "    </tr>\n",
              "    <tr>\n",
              "      <th>2</th>\n",
              "      <td>3</td>\n",
              "      <td>1114</td>\n",
              "      <td>172</td>\n",
              "      <td>B</td>\n",
              "      <td>P</td>\n",
              "      <td>34</td>\n",
              "      <td>2</td>\n",
              "      <td>0</td>\n",
              "      <td>Q</td>\n",
              "      <td>0</td>\n",
              "      <td>...</td>\n",
              "      <td>0</td>\n",
              "      <td>0</td>\n",
              "      <td>0</td>\n",
              "      <td>0</td>\n",
              "      <td>0</td>\n",
              "      <td>0</td>\n",
              "      <td>0</td>\n",
              "      <td>0</td>\n",
              "      <td>0</td>\n",
              "      <td>1</td>\n",
              "    </tr>\n",
              "    <tr>\n",
              "      <th>3</th>\n",
              "      <td>4</td>\n",
              "      <td>601</td>\n",
              "      <td>90</td>\n",
              "      <td>SC</td>\n",
              "      <td>L</td>\n",
              "      <td>34</td>\n",
              "      <td>2</td>\n",
              "      <td>0</td>\n",
              "      <td>Q</td>\n",
              "      <td>0</td>\n",
              "      <td>...</td>\n",
              "      <td>0</td>\n",
              "      <td>0</td>\n",
              "      <td>0</td>\n",
              "      <td>0</td>\n",
              "      <td>0</td>\n",
              "      <td>0</td>\n",
              "      <td>0</td>\n",
              "      <td>0</td>\n",
              "      <td>0</td>\n",
              "      <td>1</td>\n",
              "    </tr>\n",
              "    <tr>\n",
              "      <th>4</th>\n",
              "      <td>5</td>\n",
              "      <td>1006</td>\n",
              "      <td>130</td>\n",
              "      <td>B</td>\n",
              "      <td>L</td>\n",
              "      <td>27</td>\n",
              "      <td>2</td>\n",
              "      <td>0</td>\n",
              "      <td>F</td>\n",
              "      <td>0</td>\n",
              "      <td>...</td>\n",
              "      <td>0</td>\n",
              "      <td>0</td>\n",
              "      <td>0</td>\n",
              "      <td>0</td>\n",
              "      <td>0</td>\n",
              "      <td>0</td>\n",
              "      <td>0</td>\n",
              "      <td>0</td>\n",
              "      <td>0</td>\n",
              "      <td>1</td>\n",
              "    </tr>\n",
              "  </tbody>\n",
              "</table>\n",
              "<p>5 rows × 53 columns</p>\n",
              "</div>\n",
              "      <button class=\"colab-df-convert\" onclick=\"convertToInteractive('df-7311cc78-3389-4c9c-81b9-3be511e0e146')\"\n",
              "              title=\"Convert this dataframe to an interactive table.\"\n",
              "              style=\"display:none;\">\n",
              "        \n",
              "  <svg xmlns=\"http://www.w3.org/2000/svg\" height=\"24px\"viewBox=\"0 0 24 24\"\n",
              "       width=\"24px\">\n",
              "    <path d=\"M0 0h24v24H0V0z\" fill=\"none\"/>\n",
              "    <path d=\"M18.56 5.44l.94 2.06.94-2.06 2.06-.94-2.06-.94-.94-2.06-.94 2.06-2.06.94zm-11 1L8.5 8.5l.94-2.06 2.06-.94-2.06-.94L8.5 2.5l-.94 2.06-2.06.94zm10 10l.94 2.06.94-2.06 2.06-.94-2.06-.94-.94-2.06-.94 2.06-2.06.94z\"/><path d=\"M17.41 7.96l-1.37-1.37c-.4-.4-.92-.59-1.43-.59-.52 0-1.04.2-1.43.59L10.3 9.45l-7.72 7.72c-.78.78-.78 2.05 0 2.83L4 21.41c.39.39.9.59 1.41.59.51 0 1.02-.2 1.41-.59l7.78-7.78 2.81-2.81c.8-.78.8-2.07 0-2.86zM5.41 20L4 18.59l7.72-7.72 1.47 1.35L5.41 20z\"/>\n",
              "  </svg>\n",
              "      </button>\n",
              "      \n",
              "  <style>\n",
              "    .colab-df-container {\n",
              "      display:flex;\n",
              "      flex-wrap:wrap;\n",
              "      gap: 12px;\n",
              "    }\n",
              "\n",
              "    .colab-df-convert {\n",
              "      background-color: #E8F0FE;\n",
              "      border: none;\n",
              "      border-radius: 50%;\n",
              "      cursor: pointer;\n",
              "      display: none;\n",
              "      fill: #1967D2;\n",
              "      height: 32px;\n",
              "      padding: 0 0 0 0;\n",
              "      width: 32px;\n",
              "    }\n",
              "\n",
              "    .colab-df-convert:hover {\n",
              "      background-color: #E2EBFA;\n",
              "      box-shadow: 0px 1px 2px rgba(60, 64, 67, 0.3), 0px 1px 3px 1px rgba(60, 64, 67, 0.15);\n",
              "      fill: #174EA6;\n",
              "    }\n",
              "\n",
              "    [theme=dark] .colab-df-convert {\n",
              "      background-color: #3B4455;\n",
              "      fill: #D2E3FC;\n",
              "    }\n",
              "\n",
              "    [theme=dark] .colab-df-convert:hover {\n",
              "      background-color: #434B5C;\n",
              "      box-shadow: 0px 1px 3px 1px rgba(0, 0, 0, 0.15);\n",
              "      filter: drop-shadow(0px 1px 2px rgba(0, 0, 0, 0.3));\n",
              "      fill: #FFFFFF;\n",
              "    }\n",
              "  </style>\n",
              "\n",
              "      <script>\n",
              "        const buttonEl =\n",
              "          document.querySelector('#df-7311cc78-3389-4c9c-81b9-3be511e0e146 button.colab-df-convert');\n",
              "        buttonEl.style.display =\n",
              "          google.colab.kernel.accessAllowed ? 'block' : 'none';\n",
              "\n",
              "        async function convertToInteractive(key) {\n",
              "          const element = document.querySelector('#df-7311cc78-3389-4c9c-81b9-3be511e0e146');\n",
              "          const dataTable =\n",
              "            await google.colab.kernel.invokeFunction('convertToInteractive',\n",
              "                                                     [key], {});\n",
              "          if (!dataTable) return;\n",
              "\n",
              "          const docLinkHtml = 'Like what you see? Visit the ' +\n",
              "            '<a target=\"_blank\" href=https://colab.research.google.com/notebooks/data_table.ipynb>data table notebook</a>'\n",
              "            + ' to learn more about interactive tables.';\n",
              "          element.innerHTML = '';\n",
              "          dataTable['output_type'] = 'display_data';\n",
              "          await google.colab.output.renderOutput(dataTable, element);\n",
              "          const docLink = document.createElement('div');\n",
              "          docLink.innerHTML = docLinkHtml;\n",
              "          element.appendChild(docLink);\n",
              "        }\n",
              "      </script>\n",
              "    </div>\n",
              "  </div>\n",
              "  "
            ]
          },
          "metadata": {},
          "execution_count": 2
        }
      ]
    },
    {
      "cell_type": "code",
      "source": [
        "df.info()"
      ],
      "metadata": {
        "colab": {
          "base_uri": "https://localhost:8080/"
        },
        "id": "wyFbNzg8M3kl",
        "outputId": "44e926b6-4a2e-415d-8f0b-dcda94767169"
      },
      "execution_count": 3,
      "outputs": [
        {
          "output_type": "stream",
          "name": "stdout",
          "text": [
            "<class 'pandas.core.frame.DataFrame'>\n",
            "RangeIndex: 200217 entries, 0 to 200216\n",
            "Data columns (total 53 columns):\n",
            " #   Column         Non-Null Count   Dtype \n",
            "---  ------         --------------   ----- \n",
            " 0   visit_id       200217 non-null  int64 \n",
            " 1   kdkc           200217 non-null  int64 \n",
            " 2   dati2          200217 non-null  int64 \n",
            " 3   typeppk        200217 non-null  object\n",
            " 4   jkpst          200217 non-null  object\n",
            " 5   umur           200217 non-null  int64 \n",
            " 6   jnspelsep      200217 non-null  int64 \n",
            " 7   los            200217 non-null  int64 \n",
            " 8   cmg            200217 non-null  object\n",
            " 9   severitylevel  200217 non-null  int64 \n",
            " 10  diagprimer     200217 non-null  object\n",
            " 11  dx2_a00_b99    200217 non-null  int64 \n",
            " 12  dx2_c00_d48    200217 non-null  int64 \n",
            " 13  dx2_d50_d89    200217 non-null  int64 \n",
            " 14  dx2_e00_e90    200217 non-null  int64 \n",
            " 15  dx2_f00_f99    200217 non-null  int64 \n",
            " 16  dx2_g00_g99    200217 non-null  int64 \n",
            " 17  dx2_h00_h59    200217 non-null  int64 \n",
            " 18  dx2_h60_h95    200217 non-null  int64 \n",
            " 19  dx2_i00_i99    200217 non-null  int64 \n",
            " 20  dx2_j00_j99    200217 non-null  int64 \n",
            " 21  dx2_koo_k93    200217 non-null  int64 \n",
            " 22  dx2_l00_l99    200217 non-null  int64 \n",
            " 23  dx2_m00_m99    200217 non-null  int64 \n",
            " 24  dx2_n00_n99    200217 non-null  int64 \n",
            " 25  dx2_o00_o99    200217 non-null  int64 \n",
            " 26  dx2_p00_p96    200217 non-null  int64 \n",
            " 27  dx2_q00_q99    200217 non-null  int64 \n",
            " 28  dx2_r00_r99    200217 non-null  int64 \n",
            " 29  dx2_s00_t98    200217 non-null  int64 \n",
            " 30  dx2_u00_u99    200217 non-null  int64 \n",
            " 31  dx2_v01_y98    200217 non-null  int64 \n",
            " 32  dx2_z00_z99    200217 non-null  int64 \n",
            " 33  proc00_13      200217 non-null  int64 \n",
            " 34  proc14_23      200217 non-null  int64 \n",
            " 35  proc24_27      200217 non-null  int64 \n",
            " 36  proc28_28      200217 non-null  int64 \n",
            " 37  proc29_31      200217 non-null  int64 \n",
            " 38  proc_32_38     200217 non-null  int64 \n",
            " 39  proc39_45      200217 non-null  int64 \n",
            " 40  proc46_51      200217 non-null  int64 \n",
            " 41  proc52_57      200217 non-null  int64 \n",
            " 42  proc58_62      200217 non-null  int64 \n",
            " 43  proc63_67      200217 non-null  int64 \n",
            " 44  proc68_70      200217 non-null  int64 \n",
            " 45  proc71_73      200217 non-null  int64 \n",
            " 46  proc74_75      200217 non-null  int64 \n",
            " 47  proc76_77      200217 non-null  int64 \n",
            " 48  proc78_79      200217 non-null  int64 \n",
            " 49  proc80_99      200217 non-null  int64 \n",
            " 50  proce00_e99    200217 non-null  int64 \n",
            " 51  procv00_v89    200217 non-null  int64 \n",
            " 52  label          200217 non-null  int64 \n",
            "dtypes: int64(49), object(4)\n",
            "memory usage: 81.0+ MB\n"
          ]
        }
      ]
    },
    {
      "cell_type": "code",
      "source": [
        "# Check data duplicates\n",
        "df.duplicated().sum().any()"
      ],
      "metadata": {
        "colab": {
          "base_uri": "https://localhost:8080/"
        },
        "id": "f2P-eCuZaJEO",
        "outputId": "b3f793a5-69cf-45c2-de9c-a9cc06464eea"
      },
      "execution_count": 4,
      "outputs": [
        {
          "output_type": "execute_result",
          "data": {
            "text/plain": [
              "False"
            ]
          },
          "metadata": {},
          "execution_count": 4
        }
      ]
    },
    {
      "cell_type": "markdown",
      "source": [
        "## Exploratory Data Analysis"
      ],
      "metadata": {
        "id": "2_Pw6Jxrao6M"
      }
    },
    {
      "cell_type": "code",
      "source": [
        "# Check missing values\n",
        "df.isna().sum().any()"
      ],
      "metadata": {
        "colab": {
          "base_uri": "https://localhost:8080/"
        },
        "id": "Tqa2HxpxaTJe",
        "outputId": "ddcb7d60-9f9b-4d8e-d491-cafb56c4e9a9"
      },
      "execution_count": 5,
      "outputs": [
        {
          "output_type": "execute_result",
          "data": {
            "text/plain": [
              "False"
            ]
          },
          "metadata": {},
          "execution_count": 5
        }
      ]
    },
    {
      "cell_type": "code",
      "source": [
        "# Encode object data\n",
        "label = LabelEncoder()\n",
        "\n",
        "object_col = df.select_dtypes('object').columns\n",
        "df[object_col] = df[object_col].apply(lambda x: label.fit_transform(x.str.strip()))"
      ],
      "metadata": {
        "id": "qkoutZcrM9C_"
      },
      "execution_count": 6,
      "outputs": []
    },
    {
      "cell_type": "code",
      "source": [
        "# Data correlation\n",
        "correlation = np.abs(df.corr()['label']).\\\n",
        "    sort_values(ascending = False).reset_index().\\\n",
        "    rename(columns = {'index': 'Column', 'label': 'Correlation'})\n",
        "correlation"
      ],
      "metadata": {
        "colab": {
          "base_uri": "https://localhost:8080/",
          "height": 1000
        },
        "id": "GEGs4gn4M-r3",
        "outputId": "4796d19b-50d1-4152-9c3b-3e8ded75ba36"
      },
      "execution_count": 7,
      "outputs": [
        {
          "output_type": "execute_result",
          "data": {
            "text/plain": [
              "           Column  Correlation\n",
              "0           label     1.000000\n",
              "1        visit_id     0.866024\n",
              "2         typeppk     0.057364\n",
              "3       jnspelsep     0.053215\n",
              "4       proc39_45     0.043502\n",
              "5             los     0.040318\n",
              "6       proc74_75     0.038108\n",
              "7       proc80_99     0.037421\n",
              "8           dati2     0.026380\n",
              "9       proc46_51     0.026325\n",
              "10    dx2_p00_p96     0.025569\n",
              "11    dx2_z00_z99     0.023549\n",
              "12    dx2_s00_t98     0.021376\n",
              "13    dx2_e00_e90     0.018964\n",
              "14  severitylevel     0.018313\n",
              "15    dx2_n00_n99     0.017483\n",
              "16    proce00_e99     0.016524\n",
              "17    dx2_h60_h95     0.016075\n",
              "18    dx2_h00_h59     0.015285\n",
              "19    dx2_o00_o99     0.014471\n",
              "20    dx2_i00_i99     0.013802\n",
              "21      proc29_31     0.013702\n",
              "22           umur     0.013498\n",
              "23           kdkc     0.013042\n",
              "24    dx2_g00_g99     0.012481\n",
              "25    dx2_c00_d48     0.011850\n",
              "26    dx2_v01_y98     0.011616\n",
              "27     proc_32_38     0.011189\n",
              "28      proc71_73     0.010818\n",
              "29      proc00_13     0.009805\n",
              "30          jkpst     0.009326\n",
              "31    dx2_q00_q99     0.009166\n",
              "32    dx2_a00_b99     0.008506\n",
              "33      proc76_77     0.008123\n",
              "34      proc78_79     0.007997\n",
              "35      proc28_28     0.007990\n",
              "36      proc63_67     0.007529\n",
              "37    dx2_m00_m99     0.007425\n",
              "38    dx2_d50_d89     0.005819\n",
              "39    dx2_f00_f99     0.005694\n",
              "40    dx2_l00_l99     0.005415\n",
              "41            cmg     0.004789\n",
              "42      proc52_57     0.004352\n",
              "43      proc24_27     0.003512\n",
              "44    dx2_j00_j99     0.003483\n",
              "45    dx2_r00_r99     0.003190\n",
              "46      proc14_23     0.002370\n",
              "47      proc68_70     0.002198\n",
              "48      proc58_62     0.001979\n",
              "49     diagprimer     0.000978\n",
              "50    dx2_koo_k93          NaN\n",
              "51    dx2_u00_u99          NaN\n",
              "52    procv00_v89          NaN"
            ],
            "text/html": [
              "\n",
              "  <div id=\"df-f5f1b64e-5465-46dc-863c-05dac0fe49e6\">\n",
              "    <div class=\"colab-df-container\">\n",
              "      <div>\n",
              "<style scoped>\n",
              "    .dataframe tbody tr th:only-of-type {\n",
              "        vertical-align: middle;\n",
              "    }\n",
              "\n",
              "    .dataframe tbody tr th {\n",
              "        vertical-align: top;\n",
              "    }\n",
              "\n",
              "    .dataframe thead th {\n",
              "        text-align: right;\n",
              "    }\n",
              "</style>\n",
              "<table border=\"1\" class=\"dataframe\">\n",
              "  <thead>\n",
              "    <tr style=\"text-align: right;\">\n",
              "      <th></th>\n",
              "      <th>Column</th>\n",
              "      <th>Correlation</th>\n",
              "    </tr>\n",
              "  </thead>\n",
              "  <tbody>\n",
              "    <tr>\n",
              "      <th>0</th>\n",
              "      <td>label</td>\n",
              "      <td>1.000000</td>\n",
              "    </tr>\n",
              "    <tr>\n",
              "      <th>1</th>\n",
              "      <td>visit_id</td>\n",
              "      <td>0.866024</td>\n",
              "    </tr>\n",
              "    <tr>\n",
              "      <th>2</th>\n",
              "      <td>typeppk</td>\n",
              "      <td>0.057364</td>\n",
              "    </tr>\n",
              "    <tr>\n",
              "      <th>3</th>\n",
              "      <td>jnspelsep</td>\n",
              "      <td>0.053215</td>\n",
              "    </tr>\n",
              "    <tr>\n",
              "      <th>4</th>\n",
              "      <td>proc39_45</td>\n",
              "      <td>0.043502</td>\n",
              "    </tr>\n",
              "    <tr>\n",
              "      <th>5</th>\n",
              "      <td>los</td>\n",
              "      <td>0.040318</td>\n",
              "    </tr>\n",
              "    <tr>\n",
              "      <th>6</th>\n",
              "      <td>proc74_75</td>\n",
              "      <td>0.038108</td>\n",
              "    </tr>\n",
              "    <tr>\n",
              "      <th>7</th>\n",
              "      <td>proc80_99</td>\n",
              "      <td>0.037421</td>\n",
              "    </tr>\n",
              "    <tr>\n",
              "      <th>8</th>\n",
              "      <td>dati2</td>\n",
              "      <td>0.026380</td>\n",
              "    </tr>\n",
              "    <tr>\n",
              "      <th>9</th>\n",
              "      <td>proc46_51</td>\n",
              "      <td>0.026325</td>\n",
              "    </tr>\n",
              "    <tr>\n",
              "      <th>10</th>\n",
              "      <td>dx2_p00_p96</td>\n",
              "      <td>0.025569</td>\n",
              "    </tr>\n",
              "    <tr>\n",
              "      <th>11</th>\n",
              "      <td>dx2_z00_z99</td>\n",
              "      <td>0.023549</td>\n",
              "    </tr>\n",
              "    <tr>\n",
              "      <th>12</th>\n",
              "      <td>dx2_s00_t98</td>\n",
              "      <td>0.021376</td>\n",
              "    </tr>\n",
              "    <tr>\n",
              "      <th>13</th>\n",
              "      <td>dx2_e00_e90</td>\n",
              "      <td>0.018964</td>\n",
              "    </tr>\n",
              "    <tr>\n",
              "      <th>14</th>\n",
              "      <td>severitylevel</td>\n",
              "      <td>0.018313</td>\n",
              "    </tr>\n",
              "    <tr>\n",
              "      <th>15</th>\n",
              "      <td>dx2_n00_n99</td>\n",
              "      <td>0.017483</td>\n",
              "    </tr>\n",
              "    <tr>\n",
              "      <th>16</th>\n",
              "      <td>proce00_e99</td>\n",
              "      <td>0.016524</td>\n",
              "    </tr>\n",
              "    <tr>\n",
              "      <th>17</th>\n",
              "      <td>dx2_h60_h95</td>\n",
              "      <td>0.016075</td>\n",
              "    </tr>\n",
              "    <tr>\n",
              "      <th>18</th>\n",
              "      <td>dx2_h00_h59</td>\n",
              "      <td>0.015285</td>\n",
              "    </tr>\n",
              "    <tr>\n",
              "      <th>19</th>\n",
              "      <td>dx2_o00_o99</td>\n",
              "      <td>0.014471</td>\n",
              "    </tr>\n",
              "    <tr>\n",
              "      <th>20</th>\n",
              "      <td>dx2_i00_i99</td>\n",
              "      <td>0.013802</td>\n",
              "    </tr>\n",
              "    <tr>\n",
              "      <th>21</th>\n",
              "      <td>proc29_31</td>\n",
              "      <td>0.013702</td>\n",
              "    </tr>\n",
              "    <tr>\n",
              "      <th>22</th>\n",
              "      <td>umur</td>\n",
              "      <td>0.013498</td>\n",
              "    </tr>\n",
              "    <tr>\n",
              "      <th>23</th>\n",
              "      <td>kdkc</td>\n",
              "      <td>0.013042</td>\n",
              "    </tr>\n",
              "    <tr>\n",
              "      <th>24</th>\n",
              "      <td>dx2_g00_g99</td>\n",
              "      <td>0.012481</td>\n",
              "    </tr>\n",
              "    <tr>\n",
              "      <th>25</th>\n",
              "      <td>dx2_c00_d48</td>\n",
              "      <td>0.011850</td>\n",
              "    </tr>\n",
              "    <tr>\n",
              "      <th>26</th>\n",
              "      <td>dx2_v01_y98</td>\n",
              "      <td>0.011616</td>\n",
              "    </tr>\n",
              "    <tr>\n",
              "      <th>27</th>\n",
              "      <td>proc_32_38</td>\n",
              "      <td>0.011189</td>\n",
              "    </tr>\n",
              "    <tr>\n",
              "      <th>28</th>\n",
              "      <td>proc71_73</td>\n",
              "      <td>0.010818</td>\n",
              "    </tr>\n",
              "    <tr>\n",
              "      <th>29</th>\n",
              "      <td>proc00_13</td>\n",
              "      <td>0.009805</td>\n",
              "    </tr>\n",
              "    <tr>\n",
              "      <th>30</th>\n",
              "      <td>jkpst</td>\n",
              "      <td>0.009326</td>\n",
              "    </tr>\n",
              "    <tr>\n",
              "      <th>31</th>\n",
              "      <td>dx2_q00_q99</td>\n",
              "      <td>0.009166</td>\n",
              "    </tr>\n",
              "    <tr>\n",
              "      <th>32</th>\n",
              "      <td>dx2_a00_b99</td>\n",
              "      <td>0.008506</td>\n",
              "    </tr>\n",
              "    <tr>\n",
              "      <th>33</th>\n",
              "      <td>proc76_77</td>\n",
              "      <td>0.008123</td>\n",
              "    </tr>\n",
              "    <tr>\n",
              "      <th>34</th>\n",
              "      <td>proc78_79</td>\n",
              "      <td>0.007997</td>\n",
              "    </tr>\n",
              "    <tr>\n",
              "      <th>35</th>\n",
              "      <td>proc28_28</td>\n",
              "      <td>0.007990</td>\n",
              "    </tr>\n",
              "    <tr>\n",
              "      <th>36</th>\n",
              "      <td>proc63_67</td>\n",
              "      <td>0.007529</td>\n",
              "    </tr>\n",
              "    <tr>\n",
              "      <th>37</th>\n",
              "      <td>dx2_m00_m99</td>\n",
              "      <td>0.007425</td>\n",
              "    </tr>\n",
              "    <tr>\n",
              "      <th>38</th>\n",
              "      <td>dx2_d50_d89</td>\n",
              "      <td>0.005819</td>\n",
              "    </tr>\n",
              "    <tr>\n",
              "      <th>39</th>\n",
              "      <td>dx2_f00_f99</td>\n",
              "      <td>0.005694</td>\n",
              "    </tr>\n",
              "    <tr>\n",
              "      <th>40</th>\n",
              "      <td>dx2_l00_l99</td>\n",
              "      <td>0.005415</td>\n",
              "    </tr>\n",
              "    <tr>\n",
              "      <th>41</th>\n",
              "      <td>cmg</td>\n",
              "      <td>0.004789</td>\n",
              "    </tr>\n",
              "    <tr>\n",
              "      <th>42</th>\n",
              "      <td>proc52_57</td>\n",
              "      <td>0.004352</td>\n",
              "    </tr>\n",
              "    <tr>\n",
              "      <th>43</th>\n",
              "      <td>proc24_27</td>\n",
              "      <td>0.003512</td>\n",
              "    </tr>\n",
              "    <tr>\n",
              "      <th>44</th>\n",
              "      <td>dx2_j00_j99</td>\n",
              "      <td>0.003483</td>\n",
              "    </tr>\n",
              "    <tr>\n",
              "      <th>45</th>\n",
              "      <td>dx2_r00_r99</td>\n",
              "      <td>0.003190</td>\n",
              "    </tr>\n",
              "    <tr>\n",
              "      <th>46</th>\n",
              "      <td>proc14_23</td>\n",
              "      <td>0.002370</td>\n",
              "    </tr>\n",
              "    <tr>\n",
              "      <th>47</th>\n",
              "      <td>proc68_70</td>\n",
              "      <td>0.002198</td>\n",
              "    </tr>\n",
              "    <tr>\n",
              "      <th>48</th>\n",
              "      <td>proc58_62</td>\n",
              "      <td>0.001979</td>\n",
              "    </tr>\n",
              "    <tr>\n",
              "      <th>49</th>\n",
              "      <td>diagprimer</td>\n",
              "      <td>0.000978</td>\n",
              "    </tr>\n",
              "    <tr>\n",
              "      <th>50</th>\n",
              "      <td>dx2_koo_k93</td>\n",
              "      <td>NaN</td>\n",
              "    </tr>\n",
              "    <tr>\n",
              "      <th>51</th>\n",
              "      <td>dx2_u00_u99</td>\n",
              "      <td>NaN</td>\n",
              "    </tr>\n",
              "    <tr>\n",
              "      <th>52</th>\n",
              "      <td>procv00_v89</td>\n",
              "      <td>NaN</td>\n",
              "    </tr>\n",
              "  </tbody>\n",
              "</table>\n",
              "</div>\n",
              "      <button class=\"colab-df-convert\" onclick=\"convertToInteractive('df-f5f1b64e-5465-46dc-863c-05dac0fe49e6')\"\n",
              "              title=\"Convert this dataframe to an interactive table.\"\n",
              "              style=\"display:none;\">\n",
              "        \n",
              "  <svg xmlns=\"http://www.w3.org/2000/svg\" height=\"24px\"viewBox=\"0 0 24 24\"\n",
              "       width=\"24px\">\n",
              "    <path d=\"M0 0h24v24H0V0z\" fill=\"none\"/>\n",
              "    <path d=\"M18.56 5.44l.94 2.06.94-2.06 2.06-.94-2.06-.94-.94-2.06-.94 2.06-2.06.94zm-11 1L8.5 8.5l.94-2.06 2.06-.94-2.06-.94L8.5 2.5l-.94 2.06-2.06.94zm10 10l.94 2.06.94-2.06 2.06-.94-2.06-.94-.94-2.06-.94 2.06-2.06.94z\"/><path d=\"M17.41 7.96l-1.37-1.37c-.4-.4-.92-.59-1.43-.59-.52 0-1.04.2-1.43.59L10.3 9.45l-7.72 7.72c-.78.78-.78 2.05 0 2.83L4 21.41c.39.39.9.59 1.41.59.51 0 1.02-.2 1.41-.59l7.78-7.78 2.81-2.81c.8-.78.8-2.07 0-2.86zM5.41 20L4 18.59l7.72-7.72 1.47 1.35L5.41 20z\"/>\n",
              "  </svg>\n",
              "      </button>\n",
              "      \n",
              "  <style>\n",
              "    .colab-df-container {\n",
              "      display:flex;\n",
              "      flex-wrap:wrap;\n",
              "      gap: 12px;\n",
              "    }\n",
              "\n",
              "    .colab-df-convert {\n",
              "      background-color: #E8F0FE;\n",
              "      border: none;\n",
              "      border-radius: 50%;\n",
              "      cursor: pointer;\n",
              "      display: none;\n",
              "      fill: #1967D2;\n",
              "      height: 32px;\n",
              "      padding: 0 0 0 0;\n",
              "      width: 32px;\n",
              "    }\n",
              "\n",
              "    .colab-df-convert:hover {\n",
              "      background-color: #E2EBFA;\n",
              "      box-shadow: 0px 1px 2px rgba(60, 64, 67, 0.3), 0px 1px 3px 1px rgba(60, 64, 67, 0.15);\n",
              "      fill: #174EA6;\n",
              "    }\n",
              "\n",
              "    [theme=dark] .colab-df-convert {\n",
              "      background-color: #3B4455;\n",
              "      fill: #D2E3FC;\n",
              "    }\n",
              "\n",
              "    [theme=dark] .colab-df-convert:hover {\n",
              "      background-color: #434B5C;\n",
              "      box-shadow: 0px 1px 3px 1px rgba(0, 0, 0, 0.15);\n",
              "      filter: drop-shadow(0px 1px 2px rgba(0, 0, 0, 0.3));\n",
              "      fill: #FFFFFF;\n",
              "    }\n",
              "  </style>\n",
              "\n",
              "      <script>\n",
              "        const buttonEl =\n",
              "          document.querySelector('#df-f5f1b64e-5465-46dc-863c-05dac0fe49e6 button.colab-df-convert');\n",
              "        buttonEl.style.display =\n",
              "          google.colab.kernel.accessAllowed ? 'block' : 'none';\n",
              "\n",
              "        async function convertToInteractive(key) {\n",
              "          const element = document.querySelector('#df-f5f1b64e-5465-46dc-863c-05dac0fe49e6');\n",
              "          const dataTable =\n",
              "            await google.colab.kernel.invokeFunction('convertToInteractive',\n",
              "                                                     [key], {});\n",
              "          if (!dataTable) return;\n",
              "\n",
              "          const docLinkHtml = 'Like what you see? Visit the ' +\n",
              "            '<a target=\"_blank\" href=https://colab.research.google.com/notebooks/data_table.ipynb>data table notebook</a>'\n",
              "            + ' to learn more about interactive tables.';\n",
              "          element.innerHTML = '';\n",
              "          dataTable['output_type'] = 'display_data';\n",
              "          await google.colab.output.renderOutput(dataTable, element);\n",
              "          const docLink = document.createElement('div');\n",
              "          docLink.innerHTML = docLinkHtml;\n",
              "          element.appendChild(docLink);\n",
              "        }\n",
              "      </script>\n",
              "    </div>\n",
              "  </div>\n",
              "  "
            ]
          },
          "metadata": {},
          "execution_count": 7
        }
      ]
    },
    {
      "cell_type": "code",
      "source": [
        "# Plot label count comparison\n",
        "plt.figure(figsize=(5,10))\n",
        "color = sns.color_palette('BuPu')\n",
        "df['label'].value_counts().sort_values().plot(kind='pie', colors=color, autopct = '%1.1f%%')\n",
        "plt.show();"
      ],
      "metadata": {
        "colab": {
          "base_uri": "https://localhost:8080/",
          "height": 310
        },
        "id": "w_P57CdUOXqv",
        "outputId": "53a73423-06f2-4c6b-8936-5aa275359a4b"
      },
      "execution_count": 8,
      "outputs": [
        {
          "output_type": "display_data",
          "data": {
            "text/plain": [
              "<Figure size 360x720 with 1 Axes>"
            ],
            "image/png": "[encoded data removed]"
          },
          "metadata": {}
        }
      ]
    },
    {
      "cell_type": "markdown",
      "source": [
        "## Train Test Split"
      ],
      "metadata": {
        "id": "MfD6wnLXa5lw"
      }
    },
    {
      "cell_type": "code",
      "source": [
        "X = df.drop(['label', 'visit_id'], axis=1)\n",
        "y = df.label"
      ],
      "metadata": {
        "id": "eu5GN1BcObYf"
      },
      "execution_count": 9,
      "outputs": []
    },
    {
      "cell_type": "code",
      "source": [
        "# Split Data\n",
        "X_train, X_test, y_train, y_test = train_test_split(X, y, test_size=0.2, stratify=y, random_state=200)"
      ],
      "metadata": {
        "id": "MR1OQJ5ROgAH"
      },
      "execution_count": 10,
      "outputs": []
    },
    {
      "cell_type": "code",
      "source": [
        "# Scaling data 0 to 1\n",
        "scaler = MinMaxScaler()\n",
        "X_train = scaler.fit_transform(X_train)\n",
        "X_test = scaler.fit_transform(X_test)"
      ],
      "metadata": {
        "id": "8mNHvw2UOhMX"
      },
      "execution_count": 11,
      "outputs": []
    },
    {
      "cell_type": "markdown",
      "source": [
        "## Machine Learning Model"
      ],
      "metadata": {
        "id": "FEG1W2N9bB1d"
      }
    },
    {
      "cell_type": "code",
      "source": [
        "model = RandomForestClassifier()"
      ],
      "metadata": {
        "id": "FkvvygdYOiZ6"
      },
      "execution_count": 12,
      "outputs": []
    },
    {
      "cell_type": "code",
      "source": [
        "model.fit(X_train, y_train)"
      ],
      "metadata": {
        "id": "o0R5cnCwQAbH",
        "colab": {
          "base_uri": "https://localhost:8080/"
        },
        "outputId": "27c2cc12-afe6-49f0-858a-7250a7995220"
      },
      "execution_count": 13,
      "outputs": [
        {
          "output_type": "execute_result",
          "data": {
            "text/plain": [
              "RandomForestClassifier()"
            ]
          },
          "metadata": {},
          "execution_count": 13
        }
      ]
    },
    {
      "cell_type": "code",
      "source": [
        "y_pred = model.predict(X_test)\n",
        "\n",
        "print(classification_report(y_test, y_pred))"
      ],
      "metadata": {
        "colab": {
          "base_uri": "https://localhost:8080/"
        },
        "id": "_upywfPDq4cz",
        "outputId": "195e6352-a73a-4b27-b47e-6d716af88d0c"
      },
      "execution_count": 14,
      "outputs": [
        {
          "output_type": "stream",
          "name": "stdout",
          "text": [
            "              precision    recall  f1-score   support\n",
            "\n",
            "           0       0.71      0.72      0.72     19993\n",
            "           1       0.72      0.71      0.71     20051\n",
            "\n",
            "    accuracy                           0.71     40044\n",
            "   macro avg       0.71      0.71      0.71     40044\n",
            "weighted avg       0.71      0.71      0.71     40044\n",
            "\n"
          ]
        }
      ]
    },
    {
      "cell_type": "code",
      "source": [
        "recall=[]\n",
        "recall.append(round(recall_score(y_test, y_pred)*100,2))"
      ],
      "metadata": {
        "id": "eGPtQfjAhsG8"
      },
      "execution_count": 15,
      "outputs": []
    },
    {
      "cell_type": "markdown",
      "source": [
        "## Tuning RandomForest Hyperparameter"
      ],
      "metadata": {
        "id": "z1SAyxnRbWIb"
      }
    },
    {
      "cell_type": "code",
      "source": [
        "grid_params = {\n",
        "    'bootstrap': [True, False],\n",
        "    'max_features': ['auto', 'sqrt'],\n",
        "    'max_depth': [10, 20, 30, 40, 50, 60, 70, 80, 90, 100, 110, None],\n",
        "    'min_samples_leaf': [1, 2, 4],\n",
        "    'min_samples_split': [2, 5, 10],\n",
        "    'n_estimators': [50, 100]\n",
        "}"
      ],
      "metadata": {
        "id": "zruvM4MRpz6e"
      },
      "execution_count": 16,
      "outputs": []
    },
    {
      "cell_type": "code",
      "source": [
        "# Data sampling to find\n",
        "\n",
        "df_sample = df.drop(['visit_id'], axis=1)\n",
        "\n",
        "df_sample_0 = df[df['label'] == 0].sample(10000, random_state=200)\n",
        "df_sample_1 = df[df['label'] == 1].sample(10000, random_state=200)\n",
        "\n",
        "df_sample_concat = pd.concat([df_sample_0, df_sample_1])\n",
        "\n",
        "sample_train_X = df_sample_concat.drop('label', axis=1) \n",
        "sample_train_y = df_sample_concat.label"
      ],
      "metadata": {
        "id": "WNXW_r7q5-rO"
      },
      "execution_count": 17,
      "outputs": []
    },
    {
      "cell_type": "code",
      "source": [
        "randomizedCV = RandomizedSearchCV(model, grid_params, n_iter=100, cv=5, random_state=200)"
      ],
      "metadata": {
        "id": "nNG6RcGTq29A"
      },
      "execution_count": 18,
      "outputs": []
    },
    {
      "cell_type": "code",
      "source": [
        "start = time.time()\n",
        "tuned_model = randomizedCV.fit(sample_train_X, sample_train_y)\n",
        "end = time.time()\n",
        "\n",
        "print(f'Time spent: {(end-start)/60} minutes')"
      ],
      "metadata": {
        "colab": {
          "base_uri": "https://localhost:8080/"
        },
        "id": "c_-Hm3UxrfLg",
        "outputId": "6758855f-a8ea-43ea-f2e4-e14a6122a8b5"
      },
      "execution_count": 19,
      "outputs": [
        {
          "output_type": "stream",
          "name": "stdout",
          "text": [
            "Time spent: 5.665349590778351 minutes\n"
          ]
        }
      ]
    },
    {
      "cell_type": "code",
      "source": [
        "print(tuned_model.best_params_)"
      ],
      "metadata": {
        "colab": {
          "base_uri": "https://localhost:8080/"
        },
        "id": "IQDuGPqrrnVu",
        "outputId": "c68a9fda-cb43-4cb6-a514-924b3aca9133"
      },
      "execution_count": 20,
      "outputs": [
        {
          "output_type": "stream",
          "name": "stdout",
          "text": [
            "{'n_estimators': 100, 'min_samples_split': 10, 'min_samples_leaf': 1, 'max_features': 'auto', 'max_depth': 100, 'bootstrap': True}\n"
          ]
        }
      ]
    },
    {
      "cell_type": "code",
      "source": [
        "tuned_model_ = RandomForestClassifier(n_estimators=100,\n",
        "                                      min_samples_split=10, \n",
        "                                      min_samples_leaf=1, \n",
        "                                      max_features='auto', \n",
        "                                      max_depth=100, \n",
        "                                      bootstrap=True)"
      ],
      "metadata": {
        "id": "2jnFugYs8-1q"
      },
      "execution_count": 23,
      "outputs": []
    },
    {
      "cell_type": "code",
      "source": [
        "tuned_model_.fit(X_train, y_train)"
      ],
      "metadata": {
        "colab": {
          "base_uri": "https://localhost:8080/"
        },
        "id": "CnjHEFuh-xwZ",
        "outputId": "2cb04fa0-1928-4cd7-bea6-9ee5bf878e39"
      },
      "execution_count": 24,
      "outputs": [
        {
          "output_type": "execute_result",
          "data": {
            "text/plain": [
              "RandomForestClassifier(max_depth=100, min_samples_split=10)"
            ]
          },
          "metadata": {},
          "execution_count": 24
        }
      ]
    },
    {
      "cell_type": "code",
      "source": [
        "y_pred_tuned = tuned_model_.predict(X_test)\n",
        "\n",
        "print(classification_report(y_test, y_pred_tuned))"
      ],
      "metadata": {
        "colab": {
          "base_uri": "https://localhost:8080/"
        },
        "id": "FVaLOmcesHf-",
        "outputId": "9876c48d-456a-471f-848c-9cd5a842ef49"
      },
      "execution_count": 25,
      "outputs": [
        {
          "output_type": "stream",
          "name": "stdout",
          "text": [
            "              precision    recall  f1-score   support\n",
            "\n",
            "           0       0.72      0.72      0.72     19993\n",
            "           1       0.72      0.72      0.72     20051\n",
            "\n",
            "    accuracy                           0.72     40044\n",
            "   macro avg       0.72      0.72      0.72     40044\n",
            "weighted avg       0.72      0.72      0.72     40044\n",
            "\n"
          ]
        }
      ]
    },
    {
      "cell_type": "code",
      "source": [
        "recall.append(round(recall_score(y_test, y_pred_tuned)*100,2))"
      ],
      "metadata": {
        "id": "sUACTloQh303"
      },
      "execution_count": 26,
      "outputs": []
    },
    {
      "cell_type": "code",
      "source": [
        "recall = pd.DataFrame(recall, index =['Before tuned', 'After tuned'], columns =['Recall Score'])\n",
        "recall"
      ],
      "metadata": {
        "colab": {
          "base_uri": "https://localhost:8080/",
          "height": 112
        },
        "id": "Au9iYmsrp4jf",
        "outputId": "2a8b014d-65ae-4715-fca6-5e9b2243af12"
      },
      "execution_count": 27,
      "outputs": [
        {
          "output_type": "execute_result",
          "data": {
            "text/plain": [
              "              Recall Score\n",
              "Before tuned         70.68\n",
              "After tuned          71.56"
            ],
            "text/html": [
              "\n",
              "  <div id=\"df-430169e0-3e4d-4b95-9eb2-d230423c328d\">\n",
              "    <div class=\"colab-df-container\">\n",
              "      <div>\n",
              "<style scoped>\n",
              "    .dataframe tbody tr th:only-of-type {\n",
              "        vertical-align: middle;\n",
              "    }\n",
              "\n",
              "    .dataframe tbody tr th {\n",
              "        vertical-align: top;\n",
              "    }\n",
              "\n",
              "    .dataframe thead th {\n",
              "        text-align: right;\n",
              "    }\n",
              "</style>\n",
              "<table border=\"1\" class=\"dataframe\">\n",
              "  <thead>\n",
              "    <tr style=\"text-align: right;\">\n",
              "      <th></th>\n",
              "      <th>Recall Score</th>\n",
              "    </tr>\n",
              "  </thead>\n",
              "  <tbody>\n",
              "    <tr>\n",
              "      <th>Before tuned</th>\n",
              "      <td>70.68</td>\n",
              "    </tr>\n",
              "    <tr>\n",
              "      <th>After tuned</th>\n",
              "      <td>71.56</td>\n",
              "    </tr>\n",
              "  </tbody>\n",
              "</table>\n",
              "</div>\n",
              "      <button class=\"colab-df-convert\" onclick=\"convertToInteractive('df-430169e0-3e4d-4b95-9eb2-d230423c328d')\"\n",
              "              title=\"Convert this dataframe to an interactive table.\"\n",
              "              style=\"display:none;\">\n",
              "        \n",
              "  <svg xmlns=\"http://www.w3.org/2000/svg\" height=\"24px\"viewBox=\"0 0 24 24\"\n",
              "       width=\"24px\">\n",
              "    <path d=\"M0 0h24v24H0V0z\" fill=\"none\"/>\n",
              "    <path d=\"M18.56 5.44l.94 2.06.94-2.06 2.06-.94-2.06-.94-.94-2.06-.94 2.06-2.06.94zm-11 1L8.5 8.5l.94-2.06 2.06-.94-2.06-.94L8.5 2.5l-.94 2.06-2.06.94zm10 10l.94 2.06.94-2.06 2.06-.94-2.06-.94-.94-2.06-.94 2.06-2.06.94z\"/><path d=\"M17.41 7.96l-1.37-1.37c-.4-.4-.92-.59-1.43-.59-.52 0-1.04.2-1.43.59L10.3 9.45l-7.72 7.72c-.78.78-.78 2.05 0 2.83L4 21.41c.39.39.9.59 1.41.59.51 0 1.02-.2 1.41-.59l7.78-7.78 2.81-2.81c.8-.78.8-2.07 0-2.86zM5.41 20L4 18.59l7.72-7.72 1.47 1.35L5.41 20z\"/>\n",
              "  </svg>\n",
              "      </button>\n",
              "      \n",
              "  <style>\n",
              "    .colab-df-container {\n",
              "      display:flex;\n",
              "      flex-wrap:wrap;\n",
              "      gap: 12px;\n",
              "    }\n",
              "\n",
              "    .colab-df-convert {\n",
              "      background-color: #E8F0FE;\n",
              "      border: none;\n",
              "      border-radius: 50%;\n",
              "      cursor: pointer;\n",
              "      display: none;\n",
              "      fill: #1967D2;\n",
              "      height: 32px;\n",
              "      padding: 0 0 0 0;\n",
              "      width: 32px;\n",
              "    }\n",
              "\n",
              "    .colab-df-convert:hover {\n",
              "      background-color: #E2EBFA;\n",
              "      box-shadow: 0px 1px 2px rgba(60, 64, 67, 0.3), 0px 1px 3px 1px rgba(60, 64, 67, 0.15);\n",
              "      fill: #174EA6;\n",
              "    }\n",
              "\n",
              "    [theme=dark] .colab-df-convert {\n",
              "      background-color: #3B4455;\n",
              "      fill: #D2E3FC;\n",
              "    }\n",
              "\n",
              "    [theme=dark] .colab-df-convert:hover {\n",
              "      background-color: #434B5C;\n",
              "      box-shadow: 0px 1px 3px 1px rgba(0, 0, 0, 0.15);\n",
              "      filter: drop-shadow(0px 1px 2px rgba(0, 0, 0, 0.3));\n",
              "      fill: #FFFFFF;\n",
              "    }\n",
              "  </style>\n",
              "\n",
              "      <script>\n",
              "        const buttonEl =\n",
              "          document.querySelector('#df-430169e0-3e4d-4b95-9eb2-d230423c328d button.colab-df-convert');\n",
              "        buttonEl.style.display =\n",
              "          google.colab.kernel.accessAllowed ? 'block' : 'none';\n",
              "\n",
              "        async function convertToInteractive(key) {\n",
              "          const element = document.querySelector('#df-430169e0-3e4d-4b95-9eb2-d230423c328d');\n",
              "          const dataTable =\n",
              "            await google.colab.kernel.invokeFunction('convertToInteractive',\n",
              "                                                     [key], {});\n",
              "          if (!dataTable) return;\n",
              "\n",
              "          const docLinkHtml = 'Like what you see? Visit the ' +\n",
              "            '<a target=\"_blank\" href=https://colab.research.google.com/notebooks/data_table.ipynb>data table notebook</a>'\n",
              "            + ' to learn more about interactive tables.';\n",
              "          element.innerHTML = '';\n",
              "          dataTable['output_type'] = 'display_data';\n",
              "          await google.colab.output.renderOutput(dataTable, element);\n",
              "          const docLink = document.createElement('div');\n",
              "          docLink.innerHTML = docLinkHtml;\n",
              "          element.appendChild(docLink);\n",
              "        }\n",
              "      </script>\n",
              "    </div>\n",
              "  </div>\n",
              "  "
            ]
          },
          "metadata": {},
          "execution_count": 27
        }
      ]
    }
  ]
}